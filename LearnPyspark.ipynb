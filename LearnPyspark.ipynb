{
  "cells": [
    {
      "cell_type": "markdown",
      "metadata": {
        "id": "view-in-github",
        "colab_type": "text"
      },
      "source": [
        "<a href=\"https://colab.research.google.com/github/muhibuddin12/ML-SK_learn/blob/main/LearnPyspark.ipynb\" target=\"_parent\"><img src=\"https://colab.research.google.com/assets/colab-badge.svg\" alt=\"Open In Colab\"/></a>"
      ]
    },
    {
      "cell_type": "code",
      "source": [
        "!pip install pyspark"
      ],
      "metadata": {
        "colab": {
          "base_uri": "https://localhost:8080/"
        },
        "id": "bYDU6TupFltZ",
        "outputId": "38ba9970-08d6-43c8-f41f-888a2c572b07"
      },
      "id": "bYDU6TupFltZ",
      "execution_count": 2,
      "outputs": [
        {
          "output_type": "stream",
          "name": "stdout",
          "text": [
            "Collecting pyspark\n",
            "  Downloading pyspark-3.5.0.tar.gz (316.9 MB)\n",
            "\u001b[2K     \u001b[90m━━━━━━━━━━━━━━━━━━━━━━━━━━━━━━━━━━━━━━━━\u001b[0m \u001b[32m316.9/316.9 MB\u001b[0m \u001b[31m4.5 MB/s\u001b[0m eta \u001b[36m0:00:00\u001b[0m\n",
            "\u001b[?25h  Preparing metadata (setup.py) ... \u001b[?25l\u001b[?25hdone\n",
            "Requirement already satisfied: py4j==0.10.9.7 in /usr/local/lib/python3.10/dist-packages (from pyspark) (0.10.9.7)\n",
            "Building wheels for collected packages: pyspark\n",
            "  Building wheel for pyspark (setup.py) ... \u001b[?25l\u001b[?25hdone\n",
            "  Created wheel for pyspark: filename=pyspark-3.5.0-py2.py3-none-any.whl size=317425344 sha256=aaca13bfba814f358f8acb999f82dc6a85e8fc6402dd7e829df07626f6aa3e8b\n",
            "  Stored in directory: /root/.cache/pip/wheels/41/4e/10/c2cf2467f71c678cfc8a6b9ac9241e5e44a01940da8fbb17fc\n",
            "Successfully built pyspark\n",
            "Installing collected packages: pyspark\n",
            "Successfully installed pyspark-3.5.0\n"
          ]
        }
      ]
    },
    {
      "cell_type": "code",
      "execution_count": 3,
      "id": "1d159e82-698b-482d-a606-2e49a6e8cd5d",
      "metadata": {
        "tags": [],
        "id": "1d159e82-698b-482d-a606-2e49a6e8cd5d"
      },
      "outputs": [],
      "source": [
        "import pandas as pd\n",
        "import pyspark\n",
        "from pyspark.sql import SparkSession"
      ]
    },
    {
      "cell_type": "markdown",
      "id": "d1cfc559-9ca0-4c5f-ba3b-7ace2ef33674",
      "metadata": {
        "tags": [],
        "id": "d1cfc559-9ca0-4c5f-ba3b-7ace2ef33674"
      },
      "source": [
        "## Step 1: Creating a SparkSession"
      ]
    },
    {
      "cell_type": "code",
      "execution_count": 4,
      "id": "bc75f00e-12f4-40c3-9532-d11343c11412",
      "metadata": {
        "tags": [],
        "id": "bc75f00e-12f4-40c3-9532-d11343c11412"
      },
      "outputs": [],
      "source": [
        "spark = SparkSession.builder.appName(\"Datacamp Pyspark Tutorial\").config(\"spark.memory.offHeap.enabled\",\"true\").config(\"spark.memory.offHeap.size\",\"10g\").getOrCreate()"
      ]
    },
    {
      "cell_type": "markdown",
      "id": "05488dd1-8a32-4eb3-8d15-9c4606c2e886",
      "metadata": {
        "id": "05488dd1-8a32-4eb3-8d15-9c4606c2e886"
      },
      "source": [
        "## Step 2: Creating the DataFrame\n",
        "\n",
        "The dataframe consists of 8 variables:\n",
        "1. InvoiceNo: The unique identifier of each customer invoice.\n",
        "2. StockCode: The unique identifier of each item in stock.\n",
        "3. Description: The item purchased by the customer.\n",
        "4. Quantity: The number of each item purchased by a customer in a single invoice.\n",
        "5. InvoiceDate: The purchase date.\n",
        "6. UnitPrice: Price of one unit of each item.\n",
        "7. CustomerID: Unique identifier assigned to each user.\n",
        "8. Country: The country from where the purchase was made"
      ]
    },
    {
      "cell_type": "code",
      "execution_count": 5,
      "id": "aeab05e9-59e0-47eb-8e10-4309c55ae5eb",
      "metadata": {
        "tags": [],
        "id": "aeab05e9-59e0-47eb-8e10-4309c55ae5eb"
      },
      "outputs": [],
      "source": [
        "df = spark.read.csv('datacamp_ecommerce.csv',header=True,escape=\"\\\"\")"
      ]
    },
    {
      "cell_type": "code",
      "execution_count": 6,
      "id": "9d14fb24-8a5b-442a-a1f0-3997e8ba1cfc",
      "metadata": {
        "tags": [],
        "colab": {
          "base_uri": "https://localhost:8080/"
        },
        "id": "9d14fb24-8a5b-442a-a1f0-3997e8ba1cfc",
        "outputId": "0bedcf29-c27c-45fc-c221-4e3d82456e3a"
      },
      "outputs": [
        {
          "output_type": "stream",
          "name": "stdout",
          "text": [
            "+---------+---------+-----------------------------------+--------+------------+---------+----------+--------------+\n",
            "|InvoiceNo|StockCode|Description                        |Quantity|InvoiceDate |UnitPrice|CustomerID|Country       |\n",
            "+---------+---------+-----------------------------------+--------+------------+---------+----------+--------------+\n",
            "|536365   |85123A   |WHITE HANGING HEART T-LIGHT HOLDER |6       |12/1/10 8:26|2.55     |17850     |United Kingdom|\n",
            "|536365   |71053    |WHITE METAL LANTERN                |6       |12/1/10 8:26|3.39     |17850     |United Kingdom|\n",
            "|536365   |84406B   |CREAM CUPID HEARTS COAT HANGER     |8       |12/1/10 8:26|2.75     |17850     |United Kingdom|\n",
            "|536365   |84029G   |KNITTED UNION FLAG HOT WATER BOTTLE|6       |12/1/10 8:26|3.39     |17850     |United Kingdom|\n",
            "|536365   |84029E   |RED WOOLLY HOTTIE WHITE HEART.     |6       |12/1/10 8:26|3.39     |17850     |United Kingdom|\n",
            "+---------+---------+-----------------------------------+--------+------------+---------+----------+--------------+\n",
            "only showing top 5 rows\n",
            "\n"
          ]
        }
      ],
      "source": [
        "df.show(5,0)"
      ]
    },
    {
      "cell_type": "code",
      "execution_count": 7,
      "id": "5b94a338-586b-400b-8c95-15ce747dbcb7",
      "metadata": {
        "tags": [],
        "colab": {
          "base_uri": "https://localhost:8080/"
        },
        "id": "5b94a338-586b-400b-8c95-15ce747dbcb7",
        "outputId": "95009624-6d02-4f0c-9360-76ed3ad1ad96"
      },
      "outputs": [
        {
          "output_type": "stream",
          "name": "stdout",
          "text": [
            "root\n",
            " |-- InvoiceNo: string (nullable = true)\n",
            " |-- StockCode: string (nullable = true)\n",
            " |-- Description: string (nullable = true)\n",
            " |-- Quantity: string (nullable = true)\n",
            " |-- InvoiceDate: string (nullable = true)\n",
            " |-- UnitPrice: string (nullable = true)\n",
            " |-- CustomerID: string (nullable = true)\n",
            " |-- Country: string (nullable = true)\n",
            "\n"
          ]
        }
      ],
      "source": [
        "df.printSchema()"
      ]
    },
    {
      "cell_type": "markdown",
      "id": "ce2e6b66-e6b2-4b32-8124-0559fd1b99e6",
      "metadata": {
        "id": "ce2e6b66-e6b2-4b32-8124-0559fd1b99e6"
      },
      "source": [
        "## Step 3: Exploratory Data Analysis"
      ]
    },
    {
      "cell_type": "code",
      "execution_count": 8,
      "id": "92935567-be0c-465f-ab65-353c8740db02",
      "metadata": {
        "tags": [],
        "colab": {
          "base_uri": "https://localhost:8080/"
        },
        "id": "92935567-be0c-465f-ab65-353c8740db02",
        "outputId": "92d323af-ab5b-4a41-a8d7-ebb2b2d3abd7"
      },
      "outputs": [
        {
          "output_type": "execute_result",
          "data": {
            "text/plain": [
              "541909"
            ]
          },
          "metadata": {},
          "execution_count": 8
        }
      ],
      "source": [
        "#Let’s start by counting the number of rows in the dataframe:\n",
        "df.count()"
      ]
    },
    {
      "cell_type": "code",
      "execution_count": 9,
      "id": "b727939e-2215-4775-b43e-f9c874d439b9",
      "metadata": {
        "tags": [],
        "colab": {
          "base_uri": "https://localhost:8080/"
        },
        "id": "b727939e-2215-4775-b43e-f9c874d439b9",
        "outputId": "9c50c274-55f2-4308-e1bd-4df99faf8fc9"
      },
      "outputs": [
        {
          "output_type": "execute_result",
          "data": {
            "text/plain": [
              "4373"
            ]
          },
          "metadata": {},
          "execution_count": 9
        }
      ],
      "source": [
        "#How many unique customers are present in the dataframe?\n",
        "df.select('CustomerID').distinct().count()"
      ]
    },
    {
      "cell_type": "code",
      "execution_count": 10,
      "id": "4e841616-e28a-4059-b192-27390bdd5d5a",
      "metadata": {
        "tags": [],
        "colab": {
          "base_uri": "https://localhost:8080/"
        },
        "id": "4e841616-e28a-4059-b192-27390bdd5d5a",
        "outputId": "f812da82-8517-4759-a0dd-918cec71d668"
      },
      "outputs": [
        {
          "output_type": "stream",
          "name": "stdout",
          "text": [
            "+---------------+-------------+\n",
            "|        Country|country_count|\n",
            "+---------------+-------------+\n",
            "| United Kingdom|         3950|\n",
            "|        Germany|           95|\n",
            "|         France|           87|\n",
            "|          Spain|           31|\n",
            "|        Belgium|           25|\n",
            "|    Switzerland|           21|\n",
            "|       Portugal|           19|\n",
            "|          Italy|           15|\n",
            "|        Finland|           12|\n",
            "|        Austria|           11|\n",
            "|         Norway|           10|\n",
            "|        Denmark|            9|\n",
            "|Channel Islands|            9|\n",
            "|      Australia|            9|\n",
            "|    Netherlands|            9|\n",
            "|         Sweden|            8|\n",
            "|         Cyprus|            8|\n",
            "|          Japan|            8|\n",
            "|         Poland|            6|\n",
            "|         Greece|            4|\n",
            "+---------------+-------------+\n",
            "only showing top 20 rows\n",
            "\n"
          ]
        }
      ],
      "source": [
        "#What country do most purchases come from?\n",
        "from pyspark.sql.functions import *\n",
        "from pyspark.sql.types import *\n",
        "\n",
        "df.groupBy('Country').agg(countDistinct('CustomerID').alias('country_count')).orderBy(desc('country_count')).show()"
      ]
    },
    {
      "cell_type": "code",
      "execution_count": 11,
      "id": "f481fab8-4b65-46cb-b658-ee370e6812d6",
      "metadata": {
        "tags": [],
        "colab": {
          "base_uri": "https://localhost:8080/"
        },
        "id": "f481fab8-4b65-46cb-b658-ee370e6812d6",
        "outputId": "a3af4ee8-e828-4949-bc85-9cdc9e152c13"
      },
      "outputs": [
        {
          "output_type": "stream",
          "name": "stdout",
          "text": [
            "+-------+------------------+------------------+--------------------+------------------+-------------+-----------------+------------------+-----------+-------------------+\n",
            "|summary|         InvoiceNo|         StockCode|         Description|          Quantity|  InvoiceDate|        UnitPrice|        CustomerID|    Country|               date|\n",
            "+-------+------------------+------------------+--------------------+------------------+-------------+-----------------+------------------+-----------+-------------------+\n",
            "|  count|            541909|            541909|              540455|            541909|       541909|           541909|            406829|     541909|             541909|\n",
            "|   mean|  559965.752026781|27623.240210938104|             20713.0|  9.55224954743324|         NULL|4.611113626082947|15287.690570239585|       NULL|               NULL|\n",
            "| stddev|13428.417280800071| 16799.73762842768|                NULL|218.08115785023472|         NULL|96.75985306117954|1713.6003033215868|       NULL|               NULL|\n",
            "|    min|            536365|             10002| 4 PURPLE FLOCK D...|                -1|1/10/11 10:04|        -11062.06|             12346|  Australia|2011-01-04 10:00:00|\n",
            "|    max|           C581569|                 m|   wrongly sold sets|               992|  9/9/11 9:52|            99.96|             18287|Unspecified|2012-12-10 16:21:00|\n",
            "+-------+------------------+------------------+--------------------+------------------+-------------+-----------------+------------------+-----------+-------------------+\n",
            "\n"
          ]
        }
      ],
      "source": [
        "#When was the most recent purchase made by a customer on the e-commerce platform?\n",
        "spark.sql(\"set spark.sql.legacy.timeParserPolicy=LEGACY\")\n",
        "df = df.withColumn('date',when(\n",
        "        to_timestamp(col(\"InvoiceDate\"), 'yy/MM/dd HH:mm') >= '2011-01-01 00:00:00',\n",
        "        to_timestamp(col(\"InvoiceDate\"), 'yy/MM/dd HH:mm')\n",
        "    ).when(\n",
        "        date_format(to_timestamp(col(\"InvoiceDate\"), 'yy/dd/MM HH:mm'), 'yyyy-MM-dd HH:mm:ss') >= '2011-01-01 00:00:00',\n",
        "        date_format(to_timestamp(col(\"InvoiceDate\"), 'yy/dd/MM HH:mm'), 'yyyy-MM-dd HH:mm:ss')\n",
        "    ).when(\n",
        "        date_format(to_timestamp(col(\"InvoiceDate\"), 'MM/dd/yy HH:mm'), 'yyyy-MM-dd HH:mm:ss') >= '2011-01-01 00:00:00',\n",
        "        date_format(to_timestamp(col(\"InvoiceDate\"), 'MM/dd/yy HH:mm'), 'yyyy-MM-dd HH:mm:ss')\n",
        "    ).otherwise(\n",
        "        date_format(to_timestamp(col(\"InvoiceDate\"), 'dd/MM/yy HH:mm'), 'yyyy-MM-dd HH:mm:ss')\n",
        "    ))\n",
        "# df.select(max(\"date\")).show()\n",
        "df.describe().show()"
      ]
    },
    {
      "cell_type": "code",
      "execution_count": 12,
      "id": "a21614fe-7e7e-4a8d-8948-d114c65d0bfa",
      "metadata": {
        "tags": [],
        "colab": {
          "base_uri": "https://localhost:8080/"
        },
        "id": "a21614fe-7e7e-4a8d-8948-d114c65d0bfa",
        "outputId": "8e3523f4-3f0b-460a-bdc5-116f318ca154"
      },
      "outputs": [
        {
          "output_type": "stream",
          "name": "stdout",
          "text": [
            "root\n",
            " |-- InvoiceNo: string (nullable = true)\n",
            " |-- StockCode: string (nullable = true)\n",
            " |-- Description: string (nullable = true)\n",
            " |-- Quantity: string (nullable = true)\n",
            " |-- InvoiceDate: string (nullable = true)\n",
            " |-- UnitPrice: string (nullable = true)\n",
            " |-- CustomerID: string (nullable = true)\n",
            " |-- Country: string (nullable = true)\n",
            " |-- date: string (nullable = true)\n",
            "\n"
          ]
        }
      ],
      "source": [
        "#When was the earliest purchase made by a customer on the e-commerce platform?\n",
        "# df.select(min(\"date\")).show()\n",
        "df.printSchema()"
      ]
    },
    {
      "cell_type": "markdown",
      "id": "bbda3c84-9da0-4461-a523-0fa1bf2bab21",
      "metadata": {
        "tags": [],
        "id": "bbda3c84-9da0-4461-a523-0fa1bf2bab21"
      },
      "source": [
        "## Step 4: Data Pre-processing"
      ]
    },
    {
      "cell_type": "code",
      "execution_count": 13,
      "id": "2eacce0b-d102-4bcd-ba5e-cc971e6fc30e",
      "metadata": {
        "tags": [],
        "colab": {
          "base_uri": "https://localhost:8080/"
        },
        "id": "2eacce0b-d102-4bcd-ba5e-cc971e6fc30e",
        "outputId": "8f38ade8-f86c-497e-d6f0-53c0b72023b9"
      },
      "outputs": [
        {
          "output_type": "stream",
          "name": "stdout",
          "text": [
            "+---------+---------+-----------------------------------+--------+------------+---------+----------+--------------+-------------------+\n",
            "|InvoiceNo|StockCode|Description                        |Quantity|InvoiceDate |UnitPrice|CustomerID|Country       |date               |\n",
            "+---------+---------+-----------------------------------+--------+------------+---------+----------+--------------+-------------------+\n",
            "|536365   |85123A   |WHITE HANGING HEART T-LIGHT HOLDER |6       |12/1/10 8:26|2.55     |17850     |United Kingdom|2012-01-10 08:26:00|\n",
            "|536365   |71053    |WHITE METAL LANTERN                |6       |12/1/10 8:26|3.39     |17850     |United Kingdom|2012-01-10 08:26:00|\n",
            "|536365   |84406B   |CREAM CUPID HEARTS COAT HANGER     |8       |12/1/10 8:26|2.75     |17850     |United Kingdom|2012-01-10 08:26:00|\n",
            "|536365   |84029G   |KNITTED UNION FLAG HOT WATER BOTTLE|6       |12/1/10 8:26|3.39     |17850     |United Kingdom|2012-01-10 08:26:00|\n",
            "|536365   |84029E   |RED WOOLLY HOTTIE WHITE HEART.     |6       |12/1/10 8:26|3.39     |17850     |United Kingdom|2012-01-10 08:26:00|\n",
            "+---------+---------+-----------------------------------+--------+------------+---------+----------+--------------+-------------------+\n",
            "only showing top 5 rows\n",
            "\n"
          ]
        }
      ],
      "source": [
        "df.show(5,0)"
      ]
    },
    {
      "cell_type": "markdown",
      "id": "ef096d0a-94e9-474d-b13d-777170b2339d",
      "metadata": {
        "tags": [],
        "id": "ef096d0a-94e9-474d-b13d-777170b2339d"
      },
      "source": [
        "### Recency\n",
        "\n",
        "First, let’s calculate the value of recency - the latest date and time a purchase was made on the platform. This can be achieved in two steps:"
      ]
    },
    {
      "cell_type": "code",
      "execution_count": 14,
      "id": "f986e87a-cace-4786-95b1-f6c2db1d7287",
      "metadata": {
        "tags": [],
        "colab": {
          "base_uri": "https://localhost:8080/"
        },
        "id": "f986e87a-cace-4786-95b1-f6c2db1d7287",
        "outputId": "7404750f-1f33-4545-d214-4a4fc07f0c6d"
      },
      "outputs": [
        {
          "output_type": "execute_result",
          "data": {
            "text/plain": [
              "541909"
            ]
          },
          "metadata": {},
          "execution_count": 14
        }
      ],
      "source": [
        " # i) Assign a recency score to each customer\n",
        "\n",
        "df = df.withColumn(\"from_date\", lit(\"12/12/10 16:21\"))\n",
        "df = df.withColumn('from_date',to_timestamp(\"from_date\", 'yy/MM/dd HH:mm'))\n",
        "df = df.withColumn('date', to_timestamp(col('date'), 'yyyy-MM-dd HH:mm:ss'))\n",
        "\n",
        "df2=df.withColumn('from_date',to_timestamp(col('from_date'))).withColumn('recency',col(\"date\").cast(\"long\") - col('from_date').cast(\"long\"))\n",
        "# df2.orderBy(asc(\"recency\")).show()\n",
        "df2.count()"
      ]
    },
    {
      "cell_type": "code",
      "execution_count": 15,
      "id": "0d9650d3-1488-42cf-ae05-842cb49b2f0b",
      "metadata": {
        "tags": [],
        "colab": {
          "base_uri": "https://localhost:8080/"
        },
        "id": "0d9650d3-1488-42cf-ae05-842cb49b2f0b",
        "outputId": "5d4ea765-ab18-45d8-f359-465f7adf7ceb"
      },
      "outputs": [
        {
          "output_type": "execute_result",
          "data": {
            "text/plain": [
              "93257"
            ]
          },
          "metadata": {},
          "execution_count": 15
        }
      ],
      "source": [
        "# ii) Select the most recent purchase\n",
        "\n",
        "df2 = df2.join(df2.groupBy('CustomerID').agg(max('recency').alias('recency')),on='recency',how='leftsemi')\n",
        "df2.count()"
      ]
    },
    {
      "cell_type": "code",
      "execution_count": 16,
      "id": "864eeb1f-b7f4-42ae-b990-b0f8fcadc517",
      "metadata": {
        "tags": [],
        "colab": {
          "base_uri": "https://localhost:8080/"
        },
        "id": "864eeb1f-b7f4-42ae-b990-b0f8fcadc517",
        "outputId": "2b0d638a-b613-44a2-96bf-5332e7782be9"
      },
      "outputs": [
        {
          "output_type": "stream",
          "name": "stdout",
          "text": [
            "+---------+---------+---------+--------------------+--------+------------+---------+----------+--------------+-------------------+-------------------+\n",
            "|  recency|InvoiceNo|StockCode|         Description|Quantity| InvoiceDate|UnitPrice|CustomerID|       Country|               date|          from_date|\n",
            "+---------+---------+---------+--------------------+--------+------------+---------+----------+--------------+-------------------+-------------------+\n",
            "|-28971960|   536369|    21756|BATH BUILDING BLO...|       3|12/1/10 8:35|     5.95|     13047|United Kingdom|2012-01-10 08:35:00|2012-12-10 16:21:00|\n",
            "|-28970460|   536371|    22086|PAPER CHAIN KIT 5...|      80|12/1/10 9:00|     2.55|     13748|United Kingdom|2012-01-10 09:00:00|2012-12-10 16:21:00|\n",
            "|-28967760|   536382|    10002|INFLATABLE POLITI...|      12|12/1/10 9:45|     0.85|     16098|United Kingdom|2012-01-10 09:45:00|2012-12-10 16:21:00|\n",
            "|-28967760|   536382|    21912|VINTAGE SNAKES & ...|       8|12/1/10 9:45|     3.75|     16098|United Kingdom|2012-01-10 09:45:00|2012-12-10 16:21:00|\n",
            "|-28967760|   536382|    21832|CHOCOLATE CALCULATOR|      12|12/1/10 9:45|     1.65|     16098|United Kingdom|2012-01-10 09:45:00|2012-12-10 16:21:00|\n",
            "|-28967760|   536382|    22411|JUMBO SHOPPER VIN...|      10|12/1/10 9:45|     1.95|     16098|United Kingdom|2012-01-10 09:45:00|2012-12-10 16:21:00|\n",
            "|-28967760|   536382|    22379|RECYCLING BAG RET...|      10|12/1/10 9:45|      2.1|     16098|United Kingdom|2012-01-10 09:45:00|2012-12-10 16:21:00|\n",
            "|-28967760|   536382|    22381|TOY TIDY PINK POL...|      50|12/1/10 9:45|     1.85|     16098|United Kingdom|2012-01-10 09:45:00|2012-12-10 16:21:00|\n",
            "|-28967760|   536382|    22798|ANTIQUE GLASS DRE...|       8|12/1/10 9:45|     2.95|     16098|United Kingdom|2012-01-10 09:45:00|2012-12-10 16:21:00|\n",
            "|-28967760|   536382|    22726|ALARM CLOCK BAKEL...|       4|12/1/10 9:45|     3.75|     16098|United Kingdom|2012-01-10 09:45:00|2012-12-10 16:21:00|\n",
            "|-28967760|   536382|    22926|IVORY GIANT GARDE...|      12|12/1/10 9:45|     5.95|     16098|United Kingdom|2012-01-10 09:45:00|2012-12-10 16:21:00|\n",
            "|-28967760|   536382|    22839|3 TIER CAKE TIN G...|       2|12/1/10 9:45|    14.95|     16098|United Kingdom|2012-01-10 09:45:00|2012-12-10 16:21:00|\n",
            "|-28967760|   536382|    22838|3 TIER CAKE TIN R...|       2|12/1/10 9:45|    14.95|     16098|United Kingdom|2012-01-10 09:45:00|2012-12-10 16:21:00|\n",
            "|-28967760|   536382|    22783|SET 3 WICKER OVAL...|       4|12/1/10 9:45|    16.95|     16098|United Kingdom|2012-01-10 09:45:00|2012-12-10 16:21:00|\n",
            "|-28967280|   536384|    82484|WOOD BLACK BOARD ...|       3|12/1/10 9:53|     6.45|     18074|United Kingdom|2012-01-10 09:53:00|2012-12-10 16:21:00|\n",
            "|-28967280|   536384|    84755|COLOUR GLASS T-LI...|      48|12/1/10 9:53|     0.65|     18074|United Kingdom|2012-01-10 09:53:00|2012-12-10 16:21:00|\n",
            "|-28967280|   536384|    22464|HANGING METAL HEA...|      12|12/1/10 9:53|     1.65|     18074|United Kingdom|2012-01-10 09:53:00|2012-12-10 16:21:00|\n",
            "|-28967280|   536384|    21324|HANGING MEDINA LA...|       6|12/1/10 9:53|     2.95|     18074|United Kingdom|2012-01-10 09:53:00|2012-12-10 16:21:00|\n",
            "|-28967280|   536384|    22457|NATURAL SLATE HEA...|      12|12/1/10 9:53|     2.95|     18074|United Kingdom|2012-01-10 09:53:00|2012-12-10 16:21:00|\n",
            "|-28967280|   536384|    22469|HEART OF WICKER S...|      40|12/1/10 9:53|     1.45|     18074|United Kingdom|2012-01-10 09:53:00|2012-12-10 16:21:00|\n",
            "+---------+---------+---------+--------------------+--------+------------+---------+----------+--------------+-------------------+-------------------+\n",
            "only showing top 20 rows\n",
            "\n"
          ]
        }
      ],
      "source": [
        "df2.show()\n",
        "# df2.groupBy('CustomerID').agg(max('recency').alias('recency')).count()\n"
      ]
    },
    {
      "cell_type": "code",
      "execution_count": 18,
      "id": "c96d823b-1abc-4ce0-8625-467bce540e96",
      "metadata": {
        "colab": {
          "base_uri": "https://localhost:8080/"
        },
        "id": "c96d823b-1abc-4ce0-8625-467bce540e96",
        "outputId": "3f9d92b7-c7d5-4f87-dfdf-104add0a2d67"
      },
      "outputs": [
        {
          "output_type": "stream",
          "name": "stdout",
          "text": [
            "root\n",
            " |-- recency: long (nullable = true)\n",
            " |-- InvoiceNo: string (nullable = true)\n",
            " |-- StockCode: string (nullable = true)\n",
            " |-- Description: string (nullable = true)\n",
            " |-- Quantity: string (nullable = true)\n",
            " |-- InvoiceDate: string (nullable = true)\n",
            " |-- UnitPrice: string (nullable = true)\n",
            " |-- CustomerID: string (nullable = true)\n",
            " |-- Country: string (nullable = true)\n",
            " |-- date: timestamp (nullable = true)\n",
            " |-- from_date: timestamp (nullable = true)\n",
            "\n"
          ]
        }
      ],
      "source": [
        "df2.printSchema()"
      ]
    },
    {
      "cell_type": "markdown",
      "id": "f87620c7-debd-4ca3-8ad9-c1290b27c172",
      "metadata": {
        "id": "f87620c7-debd-4ca3-8ad9-c1290b27c172"
      },
      "source": [
        "### Frequency\n",
        "\n",
        "Let’s now calculate the value of frequency - how often a customer bought something on the platform. To do this, we just need to group by each customer ID and count the number of items they purchased:"
      ]
    },
    {
      "cell_type": "code",
      "execution_count": 19,
      "id": "d88cbf58-7574-405d-a352-c06b4a0eda32",
      "metadata": {
        "tags": [],
        "id": "d88cbf58-7574-405d-a352-c06b4a0eda32"
      },
      "outputs": [],
      "source": [
        "df_freq = df2.groupBy('CustomerID').agg(count('InvoiceDate').alias('frequency'))"
      ]
    },
    {
      "cell_type": "code",
      "execution_count": 20,
      "id": "7e6f4db0-053b-4719-83da-873b2796bdf3",
      "metadata": {
        "tags": [],
        "colab": {
          "base_uri": "https://localhost:8080/"
        },
        "id": "7e6f4db0-053b-4719-83da-873b2796bdf3",
        "outputId": "e54a1cb9-7295-4efc-8a79-1b34cc6ec897"
      },
      "outputs": [
        {
          "output_type": "stream",
          "name": "stdout",
          "text": [
            "+----------+---------+\n",
            "|CustomerID|frequency|\n",
            "+----------+---------+\n",
            "|16250     |14       |\n",
            "|15271     |24       |\n",
            "|15555     |26       |\n",
            "|15574     |1        |\n",
            "|17714     |10       |\n",
            "+----------+---------+\n",
            "only showing top 5 rows\n",
            "\n"
          ]
        }
      ],
      "source": [
        "df_freq.show(5,0)"
      ]
    },
    {
      "cell_type": "code",
      "execution_count": 21,
      "id": "c0c7b33f-f750-4205-b34e-150886eebe0c",
      "metadata": {
        "tags": [],
        "colab": {
          "base_uri": "https://localhost:8080/"
        },
        "id": "c0c7b33f-f750-4205-b34e-150886eebe0c",
        "outputId": "86f4e71c-78eb-475e-eb38-2b50c0408c1b"
      },
      "outputs": [
        {
          "output_type": "execute_result",
          "data": {
            "text/plain": [
              "90941"
            ]
          },
          "metadata": {},
          "execution_count": 21
        }
      ],
      "source": [
        "df3 = df2.join(df_freq,on='CustomerID',how='inner')\n",
        "df3.count()"
      ]
    },
    {
      "cell_type": "code",
      "execution_count": 22,
      "id": "ad0ef561-79bf-4fc5-8efb-e3b184791679",
      "metadata": {
        "tags": [],
        "colab": {
          "base_uri": "https://localhost:8080/"
        },
        "id": "ad0ef561-79bf-4fc5-8efb-e3b184791679",
        "outputId": "2e059c93-c662-47b2-8b0d-0ab9bede44a8"
      },
      "outputs": [
        {
          "output_type": "stream",
          "name": "stdout",
          "text": [
            "+----------+---------+---------+---------+-------------------------------+--------+------------+---------+--------------+-------------------+-------------------+---------+\n",
            "|CustomerID|recency  |InvoiceNo|StockCode|Description                    |Quantity|InvoiceDate |UnitPrice|Country       |date               |from_date          |frequency|\n",
            "+----------+---------+---------+---------+-------------------------------+--------+------------+---------+--------------+-------------------+-------------------+---------+\n",
            "|13047     |-28971960|536369   |21756    |BATH BUILDING BLOCK WORD       |3       |12/1/10 8:35|5.95     |United Kingdom|2012-01-10 08:35:00|2012-12-10 16:21:00|1        |\n",
            "|13748     |-28970460|536371   |22086    |PAPER CHAIN KIT 50'S CHRISTMAS |80      |12/1/10 9:00|2.55     |United Kingdom|2012-01-10 09:00:00|2012-12-10 16:21:00|1        |\n",
            "|16098     |-28967760|536382   |10002    |INFLATABLE POLITICAL GLOBE     |12      |12/1/10 9:45|0.85     |United Kingdom|2012-01-10 09:45:00|2012-12-10 16:21:00|20       |\n",
            "|16098     |-28967760|536382   |21912    |VINTAGE SNAKES & LADDERS       |8       |12/1/10 9:45|3.75     |United Kingdom|2012-01-10 09:45:00|2012-12-10 16:21:00|20       |\n",
            "|16098     |-28967760|536382   |21832    |CHOCOLATE CALCULATOR           |12      |12/1/10 9:45|1.65     |United Kingdom|2012-01-10 09:45:00|2012-12-10 16:21:00|20       |\n",
            "+----------+---------+---------+---------+-------------------------------+--------+------------+---------+--------------+-------------------+-------------------+---------+\n",
            "only showing top 5 rows\n",
            "\n"
          ]
        }
      ],
      "source": [
        "df3.show(5,0)"
      ]
    },
    {
      "cell_type": "code",
      "execution_count": 23,
      "id": "2c79ce34-ad00-4ebe-b73f-31092a8132d7",
      "metadata": {
        "tags": [],
        "colab": {
          "base_uri": "https://localhost:8080/"
        },
        "id": "2c79ce34-ad00-4ebe-b73f-31092a8132d7",
        "outputId": "07e59e5e-ddea-44a5-a8e1-e0898d8e917a"
      },
      "outputs": [
        {
          "output_type": "stream",
          "name": "stdout",
          "text": [
            "root\n",
            " |-- CustomerID: string (nullable = true)\n",
            " |-- recency: long (nullable = true)\n",
            " |-- InvoiceNo: string (nullable = true)\n",
            " |-- StockCode: string (nullable = true)\n",
            " |-- Description: string (nullable = true)\n",
            " |-- Quantity: string (nullable = true)\n",
            " |-- InvoiceDate: string (nullable = true)\n",
            " |-- UnitPrice: string (nullable = true)\n",
            " |-- Country: string (nullable = true)\n",
            " |-- date: timestamp (nullable = true)\n",
            " |-- from_date: timestamp (nullable = true)\n",
            " |-- frequency: long (nullable = false)\n",
            "\n"
          ]
        }
      ],
      "source": [
        "df3.printSchema()"
      ]
    },
    {
      "cell_type": "markdown",
      "id": "8909ecbc-a6a8-4fbf-aa67-1b2205180878",
      "metadata": {
        "id": "8909ecbc-a6a8-4fbf-aa67-1b2205180878"
      },
      "source": [
        "### Monetary Value\n",
        "Finally, let’s calculate monetary value - the total amount spent by each customer in the dataframe. There are two steps to achieving this:"
      ]
    },
    {
      "cell_type": "code",
      "execution_count": 24,
      "id": "75e87fe1-e679-4045-86ac-75c36ea1d584",
      "metadata": {
        "tags": [],
        "id": "75e87fe1-e679-4045-86ac-75c36ea1d584"
      },
      "outputs": [],
      "source": [
        "#i) Find the total amount spent in each purchase:\n",
        "\n",
        "m_val = df3.withColumn('TotalAmount',col(\"Quantity\") * col(\"UnitPrice\"))"
      ]
    },
    {
      "cell_type": "code",
      "execution_count": 25,
      "id": "8b172d1e-bf81-466d-8673-0913653c220e",
      "metadata": {
        "tags": [],
        "id": "8b172d1e-bf81-466d-8673-0913653c220e"
      },
      "outputs": [],
      "source": [
        "#ii) Find the total amount spent by each customer:\n",
        "\n",
        "m_val = m_val.groupBy('CustomerID').agg(sum('TotalAmount').alias('monetary_value'))"
      ]
    },
    {
      "cell_type": "code",
      "execution_count": 26,
      "id": "e5ba2fbd-e6e8-46c6-b4ce-ae542cb5f5b9",
      "metadata": {
        "tags": [],
        "id": "e5ba2fbd-e6e8-46c6-b4ce-ae542cb5f5b9"
      },
      "outputs": [],
      "source": [
        "#Merge this dataframe with the all the other variables:\n",
        "\n",
        "finaldf = m_val.join(df3,on='CustomerID',how='inner')"
      ]
    },
    {
      "cell_type": "code",
      "execution_count": 27,
      "id": "8cd0177b-b1fa-45d6-b47c-e3d28e9caa1d",
      "metadata": {
        "tags": [],
        "colab": {
          "base_uri": "https://localhost:8080/"
        },
        "id": "8cd0177b-b1fa-45d6-b47c-e3d28e9caa1d",
        "outputId": "c7a27353-7a1b-48ef-a0ab-abbd4a3e9f1d"
      },
      "outputs": [
        {
          "output_type": "stream",
          "name": "stdout",
          "text": [
            "+---------+---------+-------------------+----------+\n",
            "|  recency|frequency|     monetary_value|CustomerID|\n",
            "+---------+---------+-------------------+----------+\n",
            "|-28966920|       14|             226.14|     16250|\n",
            "| -7871640|       24|             111.75|     15271|\n",
            "| -5025300|       26| 171.03999999999996|     15555|\n",
            "| -4764780|        1|               3.75|     15574|\n",
            "|-59377740|       10|              153.0|     17714|\n",
            "|-46572960|        9| 185.78000000000003|     16320|\n",
            "| -4933140|       61|  652.6099999999999|     17757|\n",
            "| -4846140|       43|             306.84|     17551|\n",
            "|-60816240|       37| 236.01999999999995|     13187|\n",
            "|-59272140|       30|             215.78|     15052|\n",
            "|-58685940|       28| 494.64000000000004|     15448|\n",
            "|-50199540|        1|              81.36|     12888|\n",
            "|-43996320|        1|              -3.95|     17866|\n",
            "| -5006460|       20|              462.3|     14525|\n",
            "|-54196740|        1|               27.0|     12811|\n",
            "|-53582460|        2|              -21.8|     16619|\n",
            "|-53046300|        2|             -10.15|     17438|\n",
            "|-49516620|        1|-1.9500000000000002|     14000|\n",
            "|-47697420|       21|             307.72|     13395|\n",
            "|-46397100|       67| 180.35000000000002|     15041|\n",
            "+---------+---------+-------------------+----------+\n",
            "only showing top 20 rows\n",
            "\n"
          ]
        }
      ],
      "source": [
        "#Now that we have created all the necessary variables to build the model,\n",
        "#run the following lines of code to select only the required columns and drop duplicate rows from the dataframe:\n",
        "\n",
        "finaldf = finaldf.select(['recency','frequency','monetary_value','CustomerID']).distinct()\n",
        "finaldf.show()"
      ]
    },
    {
      "cell_type": "markdown",
      "id": "0258b9bf-a8ba-4e4f-b8e9-07e5a0590ee1",
      "metadata": {
        "id": "0258b9bf-a8ba-4e4f-b8e9-07e5a0590ee1"
      },
      "source": [
        "### Standardization\n",
        "\n",
        "Before building the customer segmentation model, let’s standardize the dataframe to ensure that all the variables are around the same scale:"
      ]
    },
    {
      "cell_type": "code",
      "execution_count": 28,
      "id": "aaa7486d-4863-4fa2-af66-80dc263b8902",
      "metadata": {
        "tags": [],
        "id": "aaa7486d-4863-4fa2-af66-80dc263b8902"
      },
      "outputs": [],
      "source": [
        "from pyspark.ml.feature import VectorAssembler\n",
        "from pyspark.ml.feature import StandardScaler\n",
        "\n",
        "assemble=VectorAssembler(inputCols=[\n",
        "    'recency','frequency','monetary_value'\n",
        "], outputCol='features')\n",
        "\n",
        "assembled_data=assemble.transform(finaldf)\n",
        "\n",
        "scale=StandardScaler(inputCol='features',outputCol='standardized')\n",
        "data_scale=scale.fit(assembled_data)\n",
        "data_scale_output=data_scale.transform(assembled_data)"
      ]
    },
    {
      "cell_type": "code",
      "execution_count": 29,
      "id": "1e0b3889-7907-4c27-b93f-2c13d9cd9547",
      "metadata": {
        "tags": [],
        "colab": {
          "base_uri": "https://localhost:8080/"
        },
        "id": "1e0b3889-7907-4c27-b93f-2c13d9cd9547",
        "outputId": "1a5003f4-48df-463a-d938-4b4ba8f68dad"
      },
      "outputs": [
        {
          "output_type": "stream",
          "name": "stdout",
          "text": [
            "+-----------------------------------------------------------+\n",
            "|standardized                                               |\n",
            "+-----------------------------------------------------------+\n",
            "|[-1.8830826995296401,0.390452625165827,0.08017005995483929]|\n",
            "|[-0.5117198894782565,0.669347357427132,0.03961706995645747]|\n",
            "+-----------------------------------------------------------+\n",
            "only showing top 2 rows\n",
            "\n"
          ]
        }
      ],
      "source": [
        "data_scale_output.select('standardized').show(2,truncate=False)"
      ]
    },
    {
      "cell_type": "markdown",
      "id": "39aa1c6e-9093-4ab4-bfa4-6dd3e2fd50c5",
      "metadata": {
        "id": "39aa1c6e-9093-4ab4-bfa4-6dd3e2fd50c5"
      },
      "source": [
        "## Step 5: Building the Machine Learning Model"
      ]
    },
    {
      "cell_type": "markdown",
      "id": "b8fad7bd-f3d2-4d4e-a922-d803dbbf6797",
      "metadata": {
        "id": "b8fad7bd-f3d2-4d4e-a922-d803dbbf6797"
      },
      "source": [
        "### i) Finding the number of clusters to use\n",
        "When building a K-Means clustering model, we first need to determine the number of clusters or groups we want the algorithm to return. If we decide on three clusters, for instance, then we will have three customer segments.\n",
        "\n",
        "The most popular technique used to decide on how many clusters to use in K-Means is called the “elbow-method.”\n",
        "\n",
        "This is done simply running the K-Means algorithm for a wide range of clusters and visualizing the model results for each cluster. The plot will have an inflection point that looks like an elbow, and we just pick the number of clusters at this point.\n",
        "\n",
        "Read this Datacamp K-Means clustering tutorial to learn more about how the algorithm works.\n",
        "\n",
        "Let’s run the following lines of code to build a K-Means clustering algorithm from 2 to 10 clusters:"
      ]
    },
    {
      "cell_type": "code",
      "execution_count": 30,
      "id": "a9b0a859-e5c8-4f65-abcd-61883b310e0a",
      "metadata": {
        "tags": [],
        "id": "a9b0a859-e5c8-4f65-abcd-61883b310e0a"
      },
      "outputs": [],
      "source": [
        "from pyspark.ml.clustering import KMeans\n",
        "from pyspark.ml.evaluation import ClusteringEvaluator\n",
        "import numpy as np\n",
        "\n",
        "cost = np.zeros(10)\n",
        "\n",
        "evaluator = ClusteringEvaluator(predictionCol='prediction', featuresCol='standardized',metricName='silhouette', distanceMeasure='squaredEuclidean')\n",
        "\n",
        "for i in range(2,10):\n",
        "    KMeans_algo=KMeans(featuresCol='standardized', k=i)\n",
        "    KMeans_fit=KMeans_algo.fit(data_scale_output)\n",
        "    output=KMeans_fit.transform(data_scale_output)\n",
        "    cost[i] = KMeans_fit.summary.trainingCost"
      ]
    },
    {
      "cell_type": "code",
      "execution_count": 31,
      "id": "9ac383a8-0b63-43af-8af4-b52e719ad007",
      "metadata": {
        "colab": {
          "base_uri": "https://localhost:8080/",
          "height": 472
        },
        "id": "9ac383a8-0b63-43af-8af4-b52e719ad007",
        "outputId": "2b1be1bc-3bb8-4ada-8dae-dd71da0bb178"
      },
      "outputs": [
        {
          "output_type": "display_data",
          "data": {
            "text/plain": [
              "<Figure size 640x480 with 1 Axes>"
            ],
            "image/png": "[encoded data removed]"
          },
          "metadata": {}
        }
      ],
      "source": [
        "import pandas as pd\n",
        "import pylab as pl\n",
        "df_cost = pd.DataFrame(cost[2:])\n",
        "df_cost.columns = [\"cost\"]\n",
        "new_col = range(2,10)\n",
        "df_cost.insert(0, 'cluster', new_col)\n",
        "pl.plot(df_cost.cluster, df_cost.cost)\n",
        "pl.xlabel('Number of Clusters')\n",
        "pl.ylabel('Score')\n",
        "pl.title('Elbow Curve')\n",
        "pl.show()"
      ]
    },
    {
      "cell_type": "markdown",
      "id": "6854ca72-759b-414d-a4c5-294933951346",
      "metadata": {
        "id": "6854ca72-759b-414d-a4c5-294933951346"
      },
      "source": [
        "### ii) Building the K-Means Clustering Model\n",
        "\n",
        "From the plot above, we can see that there is an inflection point that looks like an elbow at four. Due to this, we will proceed to build the K-Means algorithm with four clusters:"
      ]
    },
    {
      "cell_type": "code",
      "execution_count": 32,
      "id": "70a1cb8c-0cab-4a2e-9fbc-ad4810738c3f",
      "metadata": {
        "id": "70a1cb8c-0cab-4a2e-9fbc-ad4810738c3f"
      },
      "outputs": [],
      "source": [
        "KMeans_algo=KMeans(featuresCol='standardized', k=4)\n",
        "KMeans_fit=KMeans_algo.fit(data_scale_output)"
      ]
    },
    {
      "cell_type": "markdown",
      "id": "454199c5-f7a0-4b6d-aa6b-9bda97d62d5f",
      "metadata": {
        "id": "454199c5-f7a0-4b6d-aa6b-9bda97d62d5f"
      },
      "source": [
        "### iii) Making Predictions\n",
        "Let’s use the model we created to assign clusters to each customer in the dataset:"
      ]
    },
    {
      "cell_type": "code",
      "execution_count": 33,
      "id": "7730e00d-3dda-4bbf-a1cc-9f84fcee533a",
      "metadata": {
        "colab": {
          "base_uri": "https://localhost:8080/"
        },
        "id": "7730e00d-3dda-4bbf-a1cc-9f84fcee533a",
        "outputId": "2db880ab-8276-46eb-a12f-011216070914"
      },
      "outputs": [
        {
          "output_type": "stream",
          "name": "stdout",
          "text": [
            "+---------+---------+------------------+----------+------------------------------------+-------------------------------------------------------------+----------+\n",
            "|recency  |frequency|monetary_value    |CustomerID|features                            |standardized                                                 |prediction|\n",
            "+---------+---------+------------------+----------+------------------------------------+-------------------------------------------------------------+----------+\n",
            "|-28966920|14       |226.14            |16250     |[-2.896692E7,14.0,226.14]           |[-1.8830826995296401,0.390452625165827,0.08017005995483929]  |1         |\n",
            "|-7871640 |24       |111.75            |15271     |[-7871640.0,24.0,111.75]            |[-0.5117198894782565,0.669347357427132,0.03961706995645747]  |2         |\n",
            "|-5025300 |26       |171.03999999999996|15555     |[-5025300.0,26.0,171.03999999999996]|[-0.3266849043649204,0.725126303879393,0.06063627423134213]  |2         |\n",
            "|-4764780 |1        |3.75              |15574     |[-4764780.0,1.0,3.75]               |[-0.3097490097347194,0.0278894732261305,0.001329431877733472]|2         |\n",
            "|-59377740|10       |153.0             |17714     |[-5.937774E7,10.0,153.0]            |[-3.8600305082890793,0.278894732261305,0.05424082061152566]  |1         |\n",
            "+---------+---------+------------------+----------+------------------------------------+-------------------------------------------------------------+----------+\n",
            "only showing top 5 rows\n",
            "\n"
          ]
        }
      ],
      "source": [
        "preds = KMeans_fit.transform(data_scale_output)\n",
        "\n",
        "preds.show(5,0)"
      ]
    },
    {
      "cell_type": "markdown",
      "id": "195f3a94-e942-4cca-bdcd-2304b5b98f13",
      "metadata": {
        "id": "195f3a94-e942-4cca-bdcd-2304b5b98f13"
      },
      "source": [
        "## Step 6: Cluster Analysis\n",
        "\n",
        "The final step in this entire tutorial is to analyze the customer segments we just built.\n",
        "\n",
        "Run the following lines of code to visualize the recency, frequency, and monetary value of each customerID in the dataframe:"
      ]
    },
    {
      "cell_type": "code",
      "execution_count": 34,
      "id": "9d5126e1-81bb-4ea7-ba7c-81dd15f24dff",
      "metadata": {
        "colab": {
          "base_uri": "https://localhost:8080/",
          "height": 1000
        },
        "id": "9d5126e1-81bb-4ea7-ba7c-81dd15f24dff",
        "outputId": "d879ad71-e802-409d-b00a-caa8a865953d"
      },
      "outputs": [
        {
          "output_type": "display_data",
          "data": {
            "text/plain": [
              "<Figure size 640x480 with 1 Axes>"
            ],
            "image/png": "[encoded data removed]"
          },
          "metadata": {}
        },
        {
          "output_type": "display_data",
          "data": {
            "text/plain": [
              "<Figure size 640x480 with 1 Axes>"
            ],
            "image/png": "[encoded data removed]"
          },
          "metadata": {}
        },
        {
          "output_type": "display_data",
          "data": {
            "text/plain": [
              "<Figure size 640x480 with 1 Axes>"
            ],
            "image/png": "[encoded data removed]"
          },
          "metadata": {}
        }
      ],
      "source": [
        "import matplotlib.pyplot as plt\n",
        "import seaborn as sns\n",
        "\n",
        "df_viz = preds.select('recency','frequency','monetary_value','prediction')\n",
        "df_viz = df_viz.toPandas()\n",
        "avg_df = df_viz.groupby(['prediction'], as_index=False).mean()\n",
        "\n",
        "list1 = ['recency','frequency','monetary_value']\n",
        "\n",
        "for i in list1:\n",
        "    sns.barplot(x='prediction',y=str(i),data=avg_df)\n",
        "    plt.show()"
      ]
    },
    {
      "cell_type": "markdown",
      "id": "a033cf47-71f4-43d7-9a09-feab29ffc73d",
      "metadata": {
        "id": "a033cf47-71f4-43d7-9a09-feab29ffc73d"
      },
      "source": [
        "Here is an overview of characteristics displayed by customers in each cluster:\n",
        "\n",
        "1. Cluster 0: Customers in this segment display low recency, frequency, and monetary value. They rarely shop on the platform and are low potential customers who are likely to stop doing business with the ecommerce company.\n",
        "2. Cluster 1: Users in this cluster display high recency but haven’t been seen spending much on the platform. They also don’t visit the site often. This indicates  that they might be newer customers who have just started doing business with the company.\n",
        "3. Cluster 2: Customers in this segment display medium recency and frequency and spend a lot of money on the platform. This indicates that they tend to buy high-value items or make bulk purchases.\n",
        "4. Cluster 3: The final segment comprises users who display high recency and make frequent purchases on the platform. However, they don’t spend much on the platform, which might mean that they tend to select cheaper items in each purchase."
      ]
    }
  ],
  "metadata": {
    "kernelspec": {
      "display_name": "Python 3 (ipykernel)",
      "language": "python",
      "name": "python3"
    },
    "language_info": {
      "codemirror_mode": {
        "name": "ipython",
        "version": 3
      },
      "file_extension": ".py",
      "mimetype": "text/x-python",
      "name": "python",
      "nbconvert_exporter": "python",
      "pygments_lexer": "ipython3",
      "version": "3.11.1"
    },
    "colab": {
      "provenance": [],
      "include_colab_link": true
    }
  },
  "nbformat": 4,
  "nbformat_minor": 5
}